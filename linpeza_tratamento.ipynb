{
 "cells": [
  {
   "cell_type": "code",
   "id": "initial_id",
   "metadata": {
    "collapsed": true,
    "ExecuteTime": {
     "end_time": "2025-04-09T00:13:40.161992Z",
     "start_time": "2025-04-09T00:13:40.105047Z"
    }
   },
   "source": [
    "import pandas as pd\n",
    "from sklearn.preprocessing import LabelEncoder\n",
    "df = pd.read_csv('data/ecommerce_coleta.csv')\n",
    "\n",
    "pd.set_option('display.width', None)\n",
    "print(df.head())\n",
    "print(df.columns)\n",
    "print('Qtd;',df.shape)"
   ],
   "outputs": [
    {
     "name": "stdout",
     "output_type": "stream",
     "text": [
      "   Unnamed: 0                                             Título  Nota  \\\n",
      "0           0  Pijama Cirurgico  Scrub Roupa Privativa Hospit...   4.0   \n",
      "1           1  Kit 10 Cuecas Boxer Lupo Cueca Box Algodão Mas...   4.5   \n",
      "2           2  Kit Com 10 Cuecas Boxer Algodão Sem Costura Zo...   4.7   \n",
      "3           3  Kit 10 Cuecas Boxer Mash Algodão Cotton Box Or...   4.6   \n",
      "4           4  Kit 3 Short Jeans Feminino Cintura Alta Barato...   4.4   \n",
      "\n",
      "   N_Avaliações  Desconto                            Marca   Material  \\\n",
      "0         273.0       NaN  toronto uniformes profissionais  poliéster   \n",
      "1        3034.0      18.0                             lupo    algodão   \n",
      "2        5682.0      20.0                            zorba    algodão   \n",
      "3        1700.0      22.0                             mash    algodão   \n",
      "4         507.0       9.0                     menina linda       jean   \n",
      "\n",
      "       Gênero        Temporada  \\\n",
      "0  Sem gênero     não definido   \n",
      "1   Masculino   outono/inverno   \n",
      "2   Masculino     não definido   \n",
      "3   Masculino  primavera/verão   \n",
      "4    Feminino  primavera/verão   \n",
      "\n",
      "                                             Review1  ... Nota_MinMax  \\\n",
      "0  Preço justo , bem feito acabamento ok. Única s...  ...    0.629630   \n",
      "1  As cuecas são boas; porém você percebe na cost...  ...    0.814815   \n",
      "2  O tecido é bom e são confortáveis. Só que a nu...  ...    0.888889   \n",
      "3  As cuecas são boas, porém meu marido usa g e p...  ...    0.851852   \n",
      "4  Estou encantada com essas peças!.\\nOs shorts s...  ...    0.777778   \n",
      "\n",
      "  N_Avaliações_MinMax Desconto_MinMax  Preço_MinMax  Marca_Cod  Material_Cod  \\\n",
      "0            0.029969             NaN      0.100645        781           122   \n",
      "1            0.334178        0.213115      0.378585        463            25   \n",
      "2            0.625937        0.245902      0.322329        838            25   \n",
      "3            0.187197        0.278689      0.372617        494            25   \n",
      "4            0.055751        0.065574      0.201767        509            74   \n",
      "\n",
      "   Temporada_Cod  Qtd_Vendidos_Cod  Marca_Freq  Material_Freq  \n",
      "0              1            1000.0    0.002274       0.117326  \n",
      "1              3           10000.0    0.042292       0.176444  \n",
      "2              1           50000.0    0.009095       0.176444  \n",
      "3              7           10000.0    0.010914       0.176444  \n",
      "4              7            1000.0    0.010005       0.025466  \n",
      "\n",
      "[5 rows x 24 columns]\n",
      "Index(['Unnamed: 0', 'Título', 'Nota', 'N_Avaliações', 'Desconto', 'Marca',\n",
      "       'Material', 'Gênero', 'Temporada', 'Review1', 'Review2', 'Review3',\n",
      "       'Qtd_Vendidos', 'Preço', 'Nota_MinMax', 'N_Avaliações_MinMax',\n",
      "       'Desconto_MinMax', 'Preço_MinMax', 'Marca_Cod', 'Material_Cod',\n",
      "       'Temporada_Cod', 'Qtd_Vendidos_Cod', 'Marca_Freq', 'Material_Freq'],\n",
      "      dtype='object')\n",
      "Qtd; (2199, 24)\n"
     ]
    }
   ],
   "execution_count": 11
  },
  {
   "metadata": {
    "ExecuteTime": {
     "end_time": "2025-04-09T00:13:42.609169Z",
     "start_time": "2025-04-09T00:13:42.595934Z"
    }
   },
   "cell_type": "code",
   "source": [
    "# Remoçã coluna\n",
    "df.drop(columns=[\"Unnamed: 0\",\"Review1\", \"Review2\", \"Review3\"], inplace=True, errors=\"ignore\")\n",
    "print(df.columns)\n"
   ],
   "id": "7aa6ddd264c0262c",
   "outputs": [
    {
     "name": "stdout",
     "output_type": "stream",
     "text": [
      "Index(['Título', 'Nota', 'N_Avaliações', 'Desconto', 'Marca', 'Material',\n",
      "       'Gênero', 'Temporada', 'Qtd_Vendidos', 'Preço', 'Nota_MinMax',\n",
      "       'N_Avaliações_MinMax', 'Desconto_MinMax', 'Preço_MinMax', 'Marca_Cod',\n",
      "       'Material_Cod', 'Temporada_Cod', 'Qtd_Vendidos_Cod', 'Marca_Freq',\n",
      "       'Material_Freq'],\n",
      "      dtype='object')\n"
     ]
    }
   ],
   "execution_count": 12
  },
  {
   "metadata": {
    "ExecuteTime": {
     "end_time": "2025-04-09T00:13:44.749279Z",
     "start_time": "2025-04-09T00:13:44.741720Z"
    }
   },
   "cell_type": "code",
   "source": [
    "# Visualizar valores ausentes\n",
    "df.isnull().sum()\n",
    "\n",
    "\n"
   ],
   "id": "ad2f77d75bde6159",
   "outputs": [
    {
     "data": {
      "text/plain": [
       "Título                    0\n",
       "Nota                    640\n",
       "N_Avaliações            640\n",
       "Desconto               1325\n",
       "Marca                     0\n",
       "Material                867\n",
       "Gênero                   79\n",
       "Temporada                 0\n",
       "Qtd_Vendidos              0\n",
       "Preço                   235\n",
       "Nota_MinMax             640\n",
       "N_Avaliações_MinMax     640\n",
       "Desconto_MinMax        1325\n",
       "Preço_MinMax            235\n",
       "Marca_Cod                 0\n",
       "Material_Cod              0\n",
       "Temporada_Cod             0\n",
       "Qtd_Vendidos_Cod        226\n",
       "Marca_Freq                0\n",
       "Material_Freq           867\n",
       "dtype: int64"
      ]
     },
     "execution_count": 13,
     "metadata": {},
     "output_type": "execute_result"
    }
   ],
   "execution_count": 13
  },
  {
   "metadata": {
    "ExecuteTime": {
     "end_time": "2025-04-09T00:13:47.690367Z",
     "start_time": "2025-04-09T00:13:47.667029Z"
    }
   },
   "cell_type": "code",
   "source": [
    "# Prenchendo Valores Nulos\n",
    "df[\"Nota\"] = df[\"Nota\"].fillna(df[\"Nota\"].mean()) # preenchendo com a media\n",
    "df[\"N_Avaliações\"] = df[\"N_Avaliações\"].fillna(0) #  Zero avaliações\n",
    "df[\"Desconto\"] = df[\"Desconto\"].fillna(0) # Sem desconto\n",
    "df[\"Material\"]= df[\"Material\"].fillna(\"Desconhecido\") # Valor padrão\n",
    "df[\"Gênero\"] = df[\"Gênero\"].fillna(\"Não Informado\") # Valor padrão\n",
    "df[\"Preço\"] = df[\"Preço\"].fillna(df[\"Preço\"].mean())# Prechendo com a media\n",
    "df[\"Desconto_MinMax\"] = df[\"Desconto_MinMax\"].fillna(0) # Sem desconto\n",
    "df[\"Material_Freq\"] = df[\"Material_Freq\"].fillna(0)\n",
    "df[\"Qtd_Vendidos_Cod\"]= df[\"Qtd_Vendidos_Cod\"].fillna(0)\n",
    "df[\"Preço_MinMax\"] = df[\"Preço_MinMax\"].fillna(0)\n",
    "df[\"Nota_MinMax\"] = df[\"Nota_MinMax\"].fillna(0)\n",
    "df[\"N_Avaliações_MinMax\"] = df[\"N_Avaliações_MinMax\"].fillna(0)\n",
    "\n",
    "df.isnull().sum()\n"
   ],
   "id": "4374bdb5ad0fa4a7",
   "outputs": [
    {
     "data": {
      "text/plain": [
       "Título                 0\n",
       "Nota                   0\n",
       "N_Avaliações           0\n",
       "Desconto               0\n",
       "Marca                  0\n",
       "Material               0\n",
       "Gênero                 0\n",
       "Temporada              0\n",
       "Qtd_Vendidos           0\n",
       "Preço                  0\n",
       "Nota_MinMax            0\n",
       "N_Avaliações_MinMax    0\n",
       "Desconto_MinMax        0\n",
       "Preço_MinMax           0\n",
       "Marca_Cod              0\n",
       "Material_Cod           0\n",
       "Temporada_Cod          0\n",
       "Qtd_Vendidos_Cod       0\n",
       "Marca_Freq             0\n",
       "Material_Freq          0\n",
       "dtype: int64"
      ]
     },
     "execution_count": 14,
     "metadata": {},
     "output_type": "execute_result"
    }
   ],
   "execution_count": 14
  },
  {
   "metadata": {
    "ExecuteTime": {
     "end_time": "2025-04-09T00:13:53.052172Z",
     "start_time": "2025-04-09T00:13:53.043116Z"
    }
   },
   "cell_type": "code",
   "source": [
    "# Convert to numeric, forcing errors to become NaN\n",
    "df['Qtd_Vendidos'] = pd.to_numeric(df['Qtd_Vendidos'], errors='coerce')\n",
    "\n",
    "# Drop NaN values if needed\n",
    "df = df.dropna(subset=['Qtd_Vendidos'])"
   ],
   "id": "63730c7dd966f6cf",
   "outputs": [],
   "execution_count": 16
  },
  {
   "metadata": {
    "ExecuteTime": {
     "end_time": "2025-04-09T00:13:55.205470Z",
     "start_time": "2025-04-09T00:13:55.165347Z"
    }
   },
   "cell_type": "code",
   "source": [
    "# Verificação e Tratamento Dados Duplicados\n",
    "df.duplicated().sum()\n",
    "duplicatas = df[df.duplicated(keep=False)]  # Pega TODAS as ocorrências (incluindo originais)\n",
    "duplicatas = duplicatas.sort_values(by=list(df.columns))  # Ordena para visualização\n",
    "print(duplicatas.head(10))  # Mostra as 10 primeiras duplicatas\n"
   ],
   "id": "2594ce5f2518828d",
   "outputs": [
    {
     "name": "stdout",
     "output_type": "stream",
     "text": [
      "                                                 Título  Nota  N_Avaliações  \\\n",
      "126   10 Shorts Ginástica Moda Fitness Roupas Femini...   4.7          16.0   \n",
      "175   10 Shorts Ginástica Moda Fitness Roupas Femini...   4.7          16.0   \n",
      "29    2 Máscara De Proteção Lupo Dupla Camada Reutil...   4.9          52.0   \n",
      "109   2 Máscara De Proteção Lupo Dupla Camada Reutil...   4.9          52.0   \n",
      "603   2 Máscara De Proteção Lupo Dupla Camada Reutil...   4.9          52.0   \n",
      "1086  2 Máscara De Proteção Lupo Dupla Camada Reutil...   4.9          52.0   \n",
      "1554  2 Máscara De Proteção Lupo Dupla Camada Reutil...   4.9          52.0   \n",
      "2039  2 Máscara De Proteção Lupo Dupla Camada Reutil...   4.9          52.0   \n",
      "23    4 Peça Bermuda Mauricinho Tactel Short Infanti...   3.9          27.0   \n",
      "976   4 Peça Bermuda Mauricinho Tactel Short Infanti...   3.9          27.0   \n",
      "\n",
      "      Desconto      Marca          Material         Gênero        Temporada  \\\n",
      "126       13.0    própria  suplex poliéster       Feminino  primavera/verão   \n",
      "175       13.0    própria  suplex poliéster       Feminino  primavera/verão   \n",
      "29        34.0       lupo      Desconhecido  Não Informado     não definido   \n",
      "109       34.0       lupo      Desconhecido  Não Informado     não definido   \n",
      "603       34.0       lupo      Desconhecido  Não Informado     não definido   \n",
      "1086      34.0       lupo      Desconhecido  Não Informado     não definido   \n",
      "1554      34.0       lupo      Desconhecido  Não Informado     não definido   \n",
      "2039      34.0       lupo      Desconhecido  Não Informado     não definido   \n",
      "23         0.0  rebel cat        microfibra        Meninos  primavera/verão   \n",
      "976        0.0  rebel cat        microfibra        Meninos  primavera/verão   \n",
      "\n",
      "      Qtd_Vendidos   Preço  Nota_MinMax  N_Avaliações_MinMax  Desconto_MinMax  \\\n",
      "126          100.0  219.31     0.888889             0.001653         0.131148   \n",
      "175          100.0  219.31     0.888889             0.001653         0.131148   \n",
      "29          1000.0   39.39     0.962963             0.005619         0.475410   \n",
      "109         1000.0   39.39     0.962963             0.005619         0.475410   \n",
      "603         1000.0   39.39     0.962963             0.005619         0.475410   \n",
      "1086        1000.0   39.39     0.962963             0.005619         0.475410   \n",
      "1554        1000.0   39.39     0.962963             0.005619         0.475410   \n",
      "2039        1000.0   39.39     0.962963             0.005619         0.475410   \n",
      "23           100.0   52.17     0.592593             0.002865         0.000000   \n",
      "976          100.0   52.17     0.592593             0.002865         0.000000   \n",
      "\n",
      "      Preço_MinMax  Marca_Cod  Material_Cod  Temporada_Cod  Qtd_Vendidos_Cod  \\\n",
      "126       0.355428        633           154              7             100.0   \n",
      "175       0.355428        633           154              7             100.0   \n",
      "29        0.048617        463           178              1            1000.0   \n",
      "109       0.048617        463           178              1            1000.0   \n",
      "603       0.048617        463           178              1            1000.0   \n",
      "1086      0.048617        463           178              1            1000.0   \n",
      "1554      0.048617        463           178              1            1000.0   \n",
      "2039      0.048617        463           178              1            1000.0   \n",
      "23        0.070410        647           101              7             100.0   \n",
      "976       0.070410        647           101              7             100.0   \n",
      "\n",
      "      Marca_Freq  Material_Freq  \n",
      "126     0.010005       0.003183  \n",
      "175     0.010005       0.003183  \n",
      "29      0.042292       0.000000  \n",
      "109     0.042292       0.000000  \n",
      "603     0.042292       0.000000  \n",
      "1086    0.042292       0.000000  \n",
      "1554    0.042292       0.000000  \n",
      "2039    0.042292       0.000000  \n",
      "23      0.008640       0.030014  \n",
      "976     0.008640       0.030014  \n"
     ]
    }
   ],
   "execution_count": 17
  },
  {
   "metadata": {
    "ExecuteTime": {
     "end_time": "2025-04-09T00:13:58.325310Z",
     "start_time": "2025-04-09T00:13:58.291851Z"
    }
   },
   "cell_type": "code",
   "source": [
    "# Remoçã Dados Duplicados\n",
    "df.drop_duplicates(inplace=True)\n",
    "print(df.duplicated().sum())"
   ],
   "id": "7cf52414682902a5",
   "outputs": [
    {
     "name": "stdout",
     "output_type": "stream",
     "text": [
      "0\n"
     ]
    }
   ],
   "execution_count": 18
  },
  {
   "metadata": {
    "ExecuteTime": {
     "end_time": "2025-04-09T00:11:12.641889Z",
     "start_time": "2025-04-09T00:11:12.578681Z"
    }
   },
   "cell_type": "code",
   "source": [
    "df.to_csv(\"Dados_tratados.csv\", index = False)\n",
    "\n",
    "print('Arquivo csv salvo com sucesso')"
   ],
   "id": "533c37bc6d323b72",
   "outputs": [
    {
     "name": "stdout",
     "output_type": "stream",
     "text": [
      "Arquivo csv salvo com sucesso\n"
     ]
    }
   ],
   "execution_count": 9
  },
  {
   "metadata": {
    "ExecuteTime": {
     "end_time": "2025-04-09T00:14:01.074931Z",
     "start_time": "2025-04-09T00:14:01.066437Z"
    }
   },
   "cell_type": "code",
   "source": "    print('Qtd;',df.shape)",
   "id": "a817c543b8487d6c",
   "outputs": [
    {
     "name": "stdout",
     "output_type": "stream",
     "text": [
      "Qtd; (1880, 20)\n"
     ]
    }
   ],
   "execution_count": 19
  },
  {
   "metadata": {},
   "cell_type": "code",
   "outputs": [],
   "execution_count": null,
   "source": "",
   "id": "c596126cfebcd822"
  }
 ],
 "metadata": {
  "kernelspec": {
   "display_name": "Python 3",
   "language": "python",
   "name": "python3"
  },
  "language_info": {
   "codemirror_mode": {
    "name": "ipython",
    "version": 2
   },
   "file_extension": ".py",
   "mimetype": "text/x-python",
   "name": "python",
   "nbconvert_exporter": "python",
   "pygments_lexer": "ipython2",
   "version": "2.7.6"
  }
 },
 "nbformat": 4,
 "nbformat_minor": 5
}
